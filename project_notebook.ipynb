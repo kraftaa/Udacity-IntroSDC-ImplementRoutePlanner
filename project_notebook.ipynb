{
 "cells": [
  {
   "cell_type": "markdown",
   "metadata": {
    "collapsed": true
   },
   "source": [
    "# Implementing a Route Planner\n",
    "In this project you will use A\\* search to implement a \"Google-maps\" style route planning algorithm."
   ]
  },
  {
   "cell_type": "markdown",
   "metadata": {},
   "source": [
    "## The Map"
   ]
  },
  {
   "cell_type": "code",
   "execution_count": 1,
   "metadata": {},
   "outputs": [
    {
     "data": {
      "text/html": [
       "<script>requirejs.config({paths: { 'plotly': ['https://cdn.plot.ly/plotly-latest.min']},});if(!window.Plotly) {{require(['plotly'],function(plotly) {window.Plotly=plotly;});}}</script>"
      ],
      "text/vnd.plotly.v1+html": [
       "<script>requirejs.config({paths: { 'plotly': ['https://cdn.plot.ly/plotly-latest.min']},});if(!window.Plotly) {{require(['plotly'],function(plotly) {window.Plotly=plotly;});}}</script>"
      ]
     },
     "metadata": {},
     "output_type": "display_data"
    }
   ],
   "source": [
    "# Run this cell first!\n",
    "\n",
    "from helpers import Map, load_map_10, load_map_40, show_map\n",
    "import math\n",
    "\n",
    "%load_ext autoreload\n",
    "%autoreload 2"
   ]
  },
  {
   "cell_type": "markdown",
   "metadata": {},
   "source": [
    "### Map Basics"
   ]
  },
  {
   "cell_type": "code",
   "execution_count": 2,
   "metadata": {},
   "outputs": [
    {
     "data": {
      "application/vnd.plotly.v1+json": {
       "data": [
        {
         "hoverinfo": "none",
         "line": {
          "color": "#888",
          "width": 0.5
         },
         "mode": "lines",
         "type": "scatter",
         "x": [
          0.7798606835438107,
          0.46247219371675075,
          null,
          0.7798606835438107,
          0.8820353070895344,
          null,
          0.7798606835438107,
          0.49016747075266875,
          null,
          0.7647837074641568,
          0.8325506249953353,
          null,
          0.7647837074641568,
          0.7076566826610747,
          null,
          0.7647837074641568,
          0.7155217893995438,
          null,
          0.7155217893995438,
          0.8325506249953353,
          null,
          0.7155217893995438,
          0.7076566826610747,
          null,
          0.7076566826610747,
          0.49016747075266875,
          null,
          0.7076566826610747,
          0.8325506249953353,
          null,
          0.49016747075266875,
          0.46247219371675075,
          null,
          0.11622158839385677,
          0.1285377678230034,
          null
         ],
         "y": [
          0.6922727646627362,
          0.6258061621642713,
          null,
          0.6922727646627362,
          0.6791919587749445,
          null,
          0.6922727646627362,
          0.5464878695400415,
          null,
          0.3252670836724646,
          0.02310946309985762,
          null,
          0.3252670836724646,
          0.3278339270610988,
          null,
          0.3252670836724646,
          0.20026498027300055,
          null,
          0.20026498027300055,
          0.02310946309985762,
          null,
          0.20026498027300055,
          0.3278339270610988,
          null,
          0.3278339270610988,
          0.5464878695400415,
          null,
          0.3278339270610988,
          0.02310946309985762,
          null,
          0.5464878695400415,
          0.6258061621642713,
          null,
          0.11236327488812581,
          0.3285840695698353,
          null
         ]
        },
        {
         "hoverinfo": "text",
         "marker": {
          "color": [
           0,
           0,
           0,
           0,
           0,
           0,
           0,
           0,
           0,
           0
          ],
          "colorbar": {
           "thickness": 15,
           "title": "Node Connections",
           "titleside": "right",
           "xanchor": "left"
          },
          "colorscale": "Hot",
          "line": {
           "width": 2
          },
          "reversescale": true,
          "showscale": false,
          "size": 10
         },
         "mode": "markers",
         "text": [
          "Intersection 0",
          "Intersection 1",
          "Intersection 2",
          "Intersection 3",
          "Intersection 4",
          "Intersection 5",
          "Intersection 6",
          "Intersection 7",
          "Intersection 8",
          "Intersection 9"
         ],
         "type": "scatter",
         "x": [
          0.7798606835438107,
          0.7647837074641568,
          0.7155217893995438,
          0.7076566826610747,
          0.8325506249953353,
          0.49016747075266875,
          0.8820353070895344,
          0.46247219371675075,
          0.11622158839385677,
          0.1285377678230034
         ],
         "y": [
          0.6922727646627362,
          0.3252670836724646,
          0.20026498027300055,
          0.3278339270610988,
          0.02310946309985762,
          0.5464878695400415,
          0.6791919587749445,
          0.6258061621642713,
          0.11236327488812581,
          0.3285840695698353
         ]
        }
       ],
       "layout": {
        "hovermode": "closest",
        "margin": {
         "b": 20,
         "l": 5,
         "r": 5,
         "t": 40
        },
        "showlegend": false,
        "title": "<br>Network graph made with Python",
        "titlefont": {
         "size": 16
        },
        "xaxis": {
         "showgrid": false,
         "showticklabels": false,
         "zeroline": false
        },
        "yaxis": {
         "showgrid": false,
         "showticklabels": false,
         "zeroline": false
        }
       }
      },
      "text/html": [
       "<div id=\"87324eb1-4970-4cdc-a625-ab24f2c870a9\" style=\"height: 525px; width: 100%;\" class=\"plotly-graph-div\"></div><script type=\"text/javascript\">require([\"plotly\"], function(Plotly) { window.PLOTLYENV=window.PLOTLYENV || {};window.PLOTLYENV.BASE_URL=\"https://plot.ly\";Plotly.newPlot(\"87324eb1-4970-4cdc-a625-ab24f2c870a9\", [{\"type\": \"scatter\", \"x\": [0.7798606835438107, 0.46247219371675075, null, 0.7798606835438107, 0.8820353070895344, null, 0.7798606835438107, 0.49016747075266875, null, 0.7647837074641568, 0.8325506249953353, null, 0.7647837074641568, 0.7076566826610747, null, 0.7647837074641568, 0.7155217893995438, null, 0.7155217893995438, 0.8325506249953353, null, 0.7155217893995438, 0.7076566826610747, null, 0.7076566826610747, 0.49016747075266875, null, 0.7076566826610747, 0.8325506249953353, null, 0.49016747075266875, 0.46247219371675075, null, 0.11622158839385677, 0.1285377678230034, null], \"y\": [0.6922727646627362, 0.6258061621642713, null, 0.6922727646627362, 0.6791919587749445, null, 0.6922727646627362, 0.5464878695400415, null, 0.3252670836724646, 0.02310946309985762, null, 0.3252670836724646, 0.3278339270610988, null, 0.3252670836724646, 0.20026498027300055, null, 0.20026498027300055, 0.02310946309985762, null, 0.20026498027300055, 0.3278339270610988, null, 0.3278339270610988, 0.5464878695400415, null, 0.3278339270610988, 0.02310946309985762, null, 0.5464878695400415, 0.6258061621642713, null, 0.11236327488812581, 0.3285840695698353, null], \"line\": {\"width\": 0.5, \"color\": \"#888\"}, \"hoverinfo\": \"none\", \"mode\": \"lines\"}, {\"type\": \"scatter\", \"x\": [0.7798606835438107, 0.7647837074641568, 0.7155217893995438, 0.7076566826610747, 0.8325506249953353, 0.49016747075266875, 0.8820353070895344, 0.46247219371675075, 0.11622158839385677, 0.1285377678230034], \"y\": [0.6922727646627362, 0.3252670836724646, 0.20026498027300055, 0.3278339270610988, 0.02310946309985762, 0.5464878695400415, 0.6791919587749445, 0.6258061621642713, 0.11236327488812581, 0.3285840695698353], \"text\": [\"Intersection 0\", \"Intersection 1\", \"Intersection 2\", \"Intersection 3\", \"Intersection 4\", \"Intersection 5\", \"Intersection 6\", \"Intersection 7\", \"Intersection 8\", \"Intersection 9\"], \"mode\": \"markers\", \"hoverinfo\": \"text\", \"marker\": {\"showscale\": false, \"colorscale\": \"Hot\", \"reversescale\": true, \"color\": [0, 0, 0, 0, 0, 0, 0, 0, 0, 0], \"size\": 10, \"colorbar\": {\"thickness\": 15, \"title\": \"Node Connections\", \"xanchor\": \"left\", \"titleside\": \"right\"}, \"line\": {\"width\": 2}}}], {\"title\": \"<br>Network graph made with Python\", \"titlefont\": {\"size\": 16}, \"showlegend\": false, \"hovermode\": \"closest\", \"margin\": {\"b\": 20, \"l\": 5, \"r\": 5, \"t\": 40}, \"xaxis\": {\"showgrid\": false, \"zeroline\": false, \"showticklabels\": false}, \"yaxis\": {\"showgrid\": false, \"zeroline\": false, \"showticklabels\": false}}, {\"showLink\": true, \"linkText\": \"Export to plot.ly\"})});</script>"
      ],
      "text/vnd.plotly.v1+html": [
       "<div id=\"87324eb1-4970-4cdc-a625-ab24f2c870a9\" style=\"height: 525px; width: 100%;\" class=\"plotly-graph-div\"></div><script type=\"text/javascript\">require([\"plotly\"], function(Plotly) { window.PLOTLYENV=window.PLOTLYENV || {};window.PLOTLYENV.BASE_URL=\"https://plot.ly\";Plotly.newPlot(\"87324eb1-4970-4cdc-a625-ab24f2c870a9\", [{\"type\": \"scatter\", \"x\": [0.7798606835438107, 0.46247219371675075, null, 0.7798606835438107, 0.8820353070895344, null, 0.7798606835438107, 0.49016747075266875, null, 0.7647837074641568, 0.8325506249953353, null, 0.7647837074641568, 0.7076566826610747, null, 0.7647837074641568, 0.7155217893995438, null, 0.7155217893995438, 0.8325506249953353, null, 0.7155217893995438, 0.7076566826610747, null, 0.7076566826610747, 0.49016747075266875, null, 0.7076566826610747, 0.8325506249953353, null, 0.49016747075266875, 0.46247219371675075, null, 0.11622158839385677, 0.1285377678230034, null], \"y\": [0.6922727646627362, 0.6258061621642713, null, 0.6922727646627362, 0.6791919587749445, null, 0.6922727646627362, 0.5464878695400415, null, 0.3252670836724646, 0.02310946309985762, null, 0.3252670836724646, 0.3278339270610988, null, 0.3252670836724646, 0.20026498027300055, null, 0.20026498027300055, 0.02310946309985762, null, 0.20026498027300055, 0.3278339270610988, null, 0.3278339270610988, 0.5464878695400415, null, 0.3278339270610988, 0.02310946309985762, null, 0.5464878695400415, 0.6258061621642713, null, 0.11236327488812581, 0.3285840695698353, null], \"line\": {\"width\": 0.5, \"color\": \"#888\"}, \"hoverinfo\": \"none\", \"mode\": \"lines\"}, {\"type\": \"scatter\", \"x\": [0.7798606835438107, 0.7647837074641568, 0.7155217893995438, 0.7076566826610747, 0.8325506249953353, 0.49016747075266875, 0.8820353070895344, 0.46247219371675075, 0.11622158839385677, 0.1285377678230034], \"y\": [0.6922727646627362, 0.3252670836724646, 0.20026498027300055, 0.3278339270610988, 0.02310946309985762, 0.5464878695400415, 0.6791919587749445, 0.6258061621642713, 0.11236327488812581, 0.3285840695698353], \"text\": [\"Intersection 0\", \"Intersection 1\", \"Intersection 2\", \"Intersection 3\", \"Intersection 4\", \"Intersection 5\", \"Intersection 6\", \"Intersection 7\", \"Intersection 8\", \"Intersection 9\"], \"mode\": \"markers\", \"hoverinfo\": \"text\", \"marker\": {\"showscale\": false, \"colorscale\": \"Hot\", \"reversescale\": true, \"color\": [0, 0, 0, 0, 0, 0, 0, 0, 0, 0], \"size\": 10, \"colorbar\": {\"thickness\": 15, \"title\": \"Node Connections\", \"xanchor\": \"left\", \"titleside\": \"right\"}, \"line\": {\"width\": 2}}}], {\"title\": \"<br>Network graph made with Python\", \"titlefont\": {\"size\": 16}, \"showlegend\": false, \"hovermode\": \"closest\", \"margin\": {\"b\": 20, \"l\": 5, \"r\": 5, \"t\": 40}, \"xaxis\": {\"showgrid\": false, \"zeroline\": false, \"showticklabels\": false}, \"yaxis\": {\"showgrid\": false, \"zeroline\": false, \"showticklabels\": false}}, {\"showLink\": true, \"linkText\": \"Export to plot.ly\"})});</script>"
      ]
     },
     "metadata": {},
     "output_type": "display_data"
    }
   ],
   "source": [
    "map_10 = load_map_10()\n",
    "show_map(map_10)"
   ]
  },
  {
   "cell_type": "markdown",
   "metadata": {},
   "source": [
    "The map above (run the code cell if you don't see it) shows a disconnected network of 10 intersections. The two intersections on the left are connected to each other but they are not connected to the rest of the road network. This map is quite literal in its expression of distance and connectivity. On the graph above, the edge between 2 nodes(intersections) represents a literal straight road not just an abstract connection of 2 cities.\n",
    "\n",
    "These `Map` objects have two properties you will want to use to implement A\\* search: `intersections` and `roads`\n",
    "\n",
    "**Intersections**\n",
    "\n",
    "The `intersections` are represented as a dictionary. \n",
    "\n",
    "In this example, there are 10 intersections, each identified by an x,y coordinate. The coordinates are listed below. You can hover over each dot in the map above to see the intersection number."
   ]
  },
  {
   "cell_type": "code",
   "execution_count": 3,
   "metadata": {},
   "outputs": [
    {
     "data": {
      "text/plain": [
       "{0: (0.7798606835438107, 0.6922727646627362),\n",
       " 1: (0.7647837074641568, 0.3252670836724646),\n",
       " 2: (0.7155217893995438, 0.20026498027300055),\n",
       " 3: (0.7076566826610747, 0.3278339270610988),\n",
       " 4: (0.8325506249953353, 0.02310946309985762),\n",
       " 5: (0.49016747075266875, 0.5464878695400415),\n",
       " 6: (0.8820353070895344, 0.6791919587749445),\n",
       " 7: (0.46247219371675075, 0.6258061621642713),\n",
       " 8: (0.11622158839385677, 0.11236327488812581),\n",
       " 9: (0.1285377678230034, 0.3285840695698353)}"
      ]
     },
     "execution_count": 3,
     "metadata": {},
     "output_type": "execute_result"
    }
   ],
   "source": [
    "map_10.intersections"
   ]
  },
  {
   "cell_type": "markdown",
   "metadata": {},
   "source": [
    "**Roads**\n",
    "\n",
    "The `roads` property is a list where `roads[i]` contains a list of the intersections that intersection `i` connects to."
   ]
  },
  {
   "cell_type": "code",
   "execution_count": 4,
   "metadata": {},
   "outputs": [
    {
     "data": {
      "text/plain": [
       "[7, 6, 5]"
      ]
     },
     "execution_count": 4,
     "metadata": {},
     "output_type": "execute_result"
    }
   ],
   "source": [
    "# this shows that intersection 0 connects to intersections 7, 6, and 5\n",
    "map_10.roads[0] "
   ]
  },
  {
   "cell_type": "code",
   "execution_count": null,
   "metadata": {},
   "outputs": [],
   "source": [
    "# This shows the full connectivity of the map\n",
    "map_10.roads"
   ]
  },
  {
   "cell_type": "code",
   "execution_count": null,
   "metadata": {},
   "outputs": [],
   "source": [
    "# map_40 is a bigger map than map_10\n",
    "map_40 = load_map_40()\n",
    "show_map(map_40)"
   ]
  },
  {
   "cell_type": "markdown",
   "metadata": {},
   "source": [
    "### Advanced Visualizations\n",
    "\n",
    "The map above shows a network of roads which spans 40 different intersections (labeled 0 through 39). \n",
    "\n",
    "The `show_map` function which generated this map also takes a few optional parameters which might be useful for visualizaing the output of the search algorithm you will write.\n",
    "\n",
    "* `start` - The \"start\" node for the search algorithm.\n",
    "* `goal`  - The \"goal\" node.\n",
    "* `path`  - An array of integers which corresponds to a valid sequence of intersection visits on the map."
   ]
  },
  {
   "cell_type": "code",
   "execution_count": null,
   "metadata": {},
   "outputs": [],
   "source": []
  },
  {
   "cell_type": "code",
   "execution_count": null,
   "metadata": {},
   "outputs": [],
   "source": [
    "# run this code, note the effect of including the optional\n",
    "# parameters in the function call.\n",
    "show_map(map_40, start=5, goal=34, path=[5,16,37,12,34])"
   ]
  },
  {
   "cell_type": "markdown",
   "metadata": {},
   "source": [
    "## The Algorithm\n",
    "### Writing your algorithm\n",
    "The algorithm you write will be responsible for generating a `path` like the one passed into `show_map` above. In fact, when called with the same map, start and goal, as above you algorithm should produce the path `[5, 16, 37, 12, 34]`\n",
    "\n",
    "```bash\n",
    "> shortest_path(map_40, 5, 34)\n",
    "[5, 16, 37, 12, 34]\n",
    "```"
   ]
  },
  {
   "cell_type": "code",
   "execution_count": null,
   "metadata": {},
   "outputs": [],
   "source": [
    "# Do not change this cell\n",
    "# When you write your methods correctly this cell will execute\n",
    "# without problems\n",
    "class PathPlanner():\n",
    "    \"\"\"Construct a PathPlanner Object\"\"\"\n",
    "    def __init__(self, M, start=None, goal=None):\n",
    "        \"\"\" \"\"\"\n",
    "        self.map = M\n",
    "        self.start= start\n",
    "        self.goal = goal\n",
    "        self.closedSet = self.create_closedSet() if goal != None and start != None else None\n",
    "        self.openSet = self.create_openSet() if goal != None and start != None else None\n",
    "        self.cameFrom = self.create_cameFrom() if goal != None and start != None else None\n",
    "        self.gScore = self.create_gScore() if goal != None and start != None else None\n",
    "        self.fScore = self.create_fScore() if goal != None and start != None else None\n",
    "        self.path = self.run_search() if self.map and self.start != None and self.goal != None else None\n",
    "        \n",
    "    def get_path(self):\n",
    "        \"\"\" Reconstructs path after search \"\"\"\n",
    "        if self.path:\n",
    "            return self.path \n",
    "        else :\n",
    "            self.run_search()\n",
    "            return self.path\n",
    "    \n",
    "    def reconstruct_path(self, current):\n",
    "        \"\"\" Reconstructs path after search \"\"\"\n",
    "        total_path = [current]\n",
    "        while current in self.cameFrom.keys():\n",
    "            current = self.cameFrom[current]\n",
    "            total_path.append(current)\n",
    "        return total_path\n",
    "\n",
    "    def run_search(self):\n",
    "        \"\"\" \"\"\"\n",
    "        if self.map == None:\n",
    "            raise(ValueError, \"Must create map before running search. Try running PathPlanner.set_map(start_node)\")\n",
    "        if self.goal == None:\n",
    "            raise(ValueError, \"Must create goal node before running search. Try running PathPlanner.set_goal(start_node)\")\n",
    "        if self.start == None:\n",
    "            raise(ValueError, \"Must create start node before running search. Try running PathPlanner.set_start(start_node)\")\n",
    "\n",
    "        self.closedSet = self.closedSet if self.closedSet != None else self.create_closedSet()\n",
    "        self.openSet = self.openSet if self.openSet != None else  self.create_openSet()\n",
    "        self.cameFrom = self.cameFrom if self.cameFrom != None else  self.create_cameFrom()\n",
    "        self.gScore = self.gScore if self.gScore != None else  self.create_gScore()\n",
    "        self.fScore = self.fScore if self.fScore != None else  self.create_fScore()\n",
    "\n",
    "        while not self.is_open_empty():\n",
    "            current = self.get_current_node()\n",
    "\n",
    "            if current == self.goal:\n",
    "                self.path = [x for x in reversed(self.reconstruct_path(current))]\n",
    "                return self.path\n",
    "            else:\n",
    "                self.openSet.remove(current)\n",
    "                self.closedSet.add(current)\n",
    "\n",
    "            for neighbor in self.get_neighbors(current):\n",
    "                if neighbor in self.closedSet:\n",
    "                    continue    # Ignore the neighbor which is already evaluated.\n",
    "\n",
    "                if not neighbor in self.openSet:    # Discover a new node\n",
    "                    self.openSet.add(neighbor)\n",
    "                \n",
    "                # The distance from start to a neighbor\n",
    "                #the \"dist_between\" function may vary as per the solution requirements.\n",
    "                if self.get_tenative_gScore(current, neighbor) >= self.get_gScore(neighbor):\n",
    "                    continue        # This is not a better path.\n",
    "\n",
    "                # This path is the best until now. Record it!\n",
    "                self.record_best_path_to(current, neighbor)\n",
    "        print(\"No Path Found\")\n",
    "        self.path = None\n",
    "        return False"
   ]
  },
  {
   "cell_type": "markdown",
   "metadata": {},
   "source": [
    "Create the following methods:"
   ]
  },
  {
   "cell_type": "code",
   "execution_count": null,
   "metadata": {},
   "outputs": [],
   "source": [
    "def create_closedSet(self):\n",
    "    \"\"\" Creates and returns a data structure suitable to hold the set of nodes already evaluated\"\"\"\n",
    "    # TODO: return a data structure suitable to hold the set of nodes already evaluated\n",
    "    return set()"
   ]
  },
  {
   "cell_type": "code",
   "execution_count": null,
   "metadata": {},
   "outputs": [],
   "source": [
    "def create_openSet(self):\n",
    "    \"\"\" Creates and returns a data structure suitable to hold the set of currently discovered nodes \n",
    "    that are not evaluated yet. Initially, only the start node is known.\"\"\"\n",
    "    if self.start != None:\n",
    "        # TODO: return a data structure suitable to hold the set of currently discovered nodes \n",
    "        # that are not evaluated yet. Make sure to include the start node.\n",
    "        return\n",
    "    \n",
    "    raise(ValueError, \"Must create start node before creating an open set. Try running PathPlanner.set_start(start_node)\")"
   ]
  },
  {
   "cell_type": "code",
   "execution_count": null,
   "metadata": {},
   "outputs": [],
   "source": [
    "def create_cameFrom(self):\n",
    "    \"\"\"Creates and returns a data structure that shows which node can most efficiently be reached from another,\n",
    "    for each node.\"\"\"\n",
    "    # TODO: return a data structure that shows which node can most efficiently be reached from another,\n",
    "    # for each node. "
   ]
  },
  {
   "cell_type": "code",
   "execution_count": null,
   "metadata": {},
   "outputs": [],
   "source": [
    "def create_gScore(self):\n",
    "    \"\"\"Creates and returns a data structure that holds the cost of getting from the start node to that node, for each node.\n",
    "    The cost of going from start to start is zero.\"\"\"\n",
    "    # TODO:  a data structure that holds the cost of getting from the start node to that node, for each node.\n",
    "    # for each node. The cost of going from start to start is zero. The rest of the node's values should be set to infinity.\n",
    "    "
   ]
  },
  {
   "cell_type": "code",
   "execution_count": null,
   "metadata": {},
   "outputs": [],
   "source": [
    "def create_fScore(self):\n",
    "    \"\"\"Creates and returns a data structure that holds the total cost of getting from the start node to the goal\n",
    "    by passing by that node, for each node. That value is partly known, partly heuristic.\n",
    "    For the first node, that value is completely heuristic.\"\"\"\n",
    "    # TODO:  a data structure that holds the total cost of getting from the start node to the goal\n",
    "    # by passing by that node, for each node. That value is partly known, partly heuristic.\n",
    "    # For the first node, that value is completely heuristic. The rest of the node's value should be \n",
    "    # set to infinity.\n",
    "    \n"
   ]
  },
  {
   "cell_type": "code",
   "execution_count": null,
   "metadata": {},
   "outputs": [],
   "source": [
    "def _reset(self):\n",
    "    \"\"\"Private method used to reset the closedSet, openSet, cameFrom, gScore, fScore, and path attributes\"\"\"\n",
    "    self.closedSet = None\n",
    "    self.openSet = None\n",
    "    self.cameFrom = None\n",
    "    self.gScore = None\n",
    "    self.fScore = None\n",
    "    self.path = self.run_search() if self.map and self.start and self.goal else None"
   ]
  },
  {
   "cell_type": "code",
   "execution_count": null,
   "metadata": {},
   "outputs": [],
   "source": [
    "def set_map(self, M):\n",
    "    \"\"\"Method used to set map attribute \"\"\"\n",
    "    self._reset(self)\n",
    "    self.start = None\n",
    "    self.goal = None\n",
    "    # TODO: Set map to new value. \n"
   ]
  },
  {
   "cell_type": "code",
   "execution_count": null,
   "metadata": {},
   "outputs": [],
   "source": [
    "def set_start(self, start):\n",
    "    \"\"\"Method used to set start attribute \"\"\"\n",
    "    self._reset(self)\n",
    "    # TODO: Set start value. Remember to remove goal, closedSet, openSet, cameFrom, gScore, fScore, \n",
    "    # and path attributes' values.\n",
    "    "
   ]
  },
  {
   "cell_type": "code",
   "execution_count": null,
   "metadata": {},
   "outputs": [],
   "source": [
    "def set_goal(self, goal):\n",
    "    \"\"\"Method used to set goal attribute \"\"\"\n",
    "    self._reset(self)\n",
    "    # TODO: Set goal value. \n"
   ]
  },
  {
   "cell_type": "code",
   "execution_count": null,
   "metadata": {},
   "outputs": [],
   "source": [
    "def get_current_node(self):\n",
    "    \"\"\" Returns the node in the open set with the lowest value of f(node).\"\"\"\n",
    "    # TODO: Return the node in the open set with the lowest value of f(node).\n"
   ]
  },
  {
   "cell_type": "code",
   "execution_count": null,
   "metadata": {},
   "outputs": [],
   "source": [
    "def get_neighbors(self, node):\n",
    "    \"\"\"Returns the neighbors of a node\"\"\"\n",
    "    # TODO: Return the neighbors of a node\n"
   ]
  },
  {
   "cell_type": "code",
   "execution_count": null,
   "metadata": {},
   "outputs": [],
   "source": [
    "def get_gScore(self, node):\n",
    "    \"\"\"Returns the g Score of a node\"\"\"\n",
    "    # TODO: Return the g Score of a node\n"
   ]
  },
  {
   "cell_type": "code",
   "execution_count": null,
   "metadata": {},
   "outputs": [],
   "source": [
    "def get_tenative_gScore(self, current, neighbor):\n",
    "    \"\"\"Returns the tenative g Score of a node\"\"\"\n",
    "    # TODO: Return the tenative g Score of the current node \n",
    "    # plus distance from the current node to it's neighbors\n"
   ]
  },
  {
   "cell_type": "code",
   "execution_count": null,
   "metadata": {},
   "outputs": [],
   "source": [
    "def is_open_empty(self):\n",
    "    \"\"\"returns True if the open set is empty. False otherwise. \"\"\"\n",
    "    # TODO: Return True if the open set is empty. False otherwise.\n"
   ]
  },
  {
   "cell_type": "code",
   "execution_count": null,
   "metadata": {},
   "outputs": [],
   "source": [
    "def distance(self, node_1, node_2):\n",
    "    \"\"\" Computes the Euclidean L2 Distance\"\"\"\n",
    "    # TODO: Compute and return the Euclidean L2 Distance\n"
   ]
  },
  {
   "cell_type": "code",
   "execution_count": null,
   "metadata": {},
   "outputs": [],
   "source": [
    "def heuristic_cost_estimate(self, node):\n",
    "    \"\"\" Returns the heuristic cost estimate of a node \"\"\"\n",
    "    # TODO: Return the heuristic cost estimate of a node\n"
   ]
  },
  {
   "cell_type": "code",
   "execution_count": null,
   "metadata": {},
   "outputs": [],
   "source": [
    "def calculate_fscore(self, node):\n",
    "    \"\"\"Calculate the f score of a node. \"\"\"\n",
    "    # TODO: Calculate and returns the f score of a node. \n",
    "    # REMEMBER F = G + H\n",
    "    "
   ]
  },
  {
   "cell_type": "code",
   "execution_count": null,
   "metadata": {},
   "outputs": [],
   "source": [
    "def record_best_path_to(self, current, neighbor):\n",
    "    \"\"\"Record the best path to a node \"\"\"\n",
    "    # TODO: Record the best path to a node, by updating cameFrom, gScore, and fScore\n"
   ]
  },
  {
   "cell_type": "code",
   "execution_count": null,
   "metadata": {},
   "outputs": [],
   "source": [
    "PathPlanner.create_closedSet = create_closedSet\n",
    "PathPlanner.create_openSet = create_openSet\n",
    "PathPlanner.create_cameFrom = create_cameFrom\n",
    "PathPlanner.create_gScore = create_gScore\n",
    "PathPlanner.create_fScore = create_fScore\n",
    "PathPlanner._reset = _reset\n",
    "PathPlanner.set_map = set_map\n",
    "PathPlanner.set_start = set_start\n",
    "PathPlanner.set_goal = set_goal\n",
    "PathPlanner.get_current_node = get_current_node\n",
    "PathPlanner.get_neighbors = get_neighbors\n",
    "PathPlanner.get_gScore = get_gScore\n",
    "PathPlanner.get_tenative_gScore = get_tenative_gScore\n",
    "PathPlanner.is_open_empty = is_open_empty\n",
    "PathPlanner.distance = distance\n",
    "PathPlanner.heuristic_cost_estimate = heuristic_cost_estimate\n",
    "PathPlanner.calculate_fscore = calculate_fscore\n",
    "PathPlanner.record_best_path_to = record_best_path_to"
   ]
  },
  {
   "cell_type": "code",
   "execution_count": null,
   "metadata": {},
   "outputs": [],
   "source": [
    "planner = PathPlanner(map_40, 5, 34)\n",
    "path = planner.path\n",
    "if path == [5, 16, 37, 12, 34]:\n",
    "    print(\"great! Your code works for these inputs!\")\n",
    "else:\n",
    "    print(\"something is off, your code produced the following:\")\n",
    "    print(path)"
   ]
  },
  {
   "cell_type": "markdown",
   "metadata": {},
   "source": [
    "### Testing your Code\n",
    "If the code below produces no errors, your algorithm is behaving correctly. You are almost ready to submit! Before you submit, go through the following submission checklist:\n",
    "\n",
    "**Submission Checklist**\n",
    "\n",
    "1. Does my code pass all tests?\n",
    "2. Does my code implement `A*` search and not some other search algorithm?\n",
    "3. Do I use an **admissible heuristic** to direct search efforts towards the goal?\n",
    "4. Do I use data structures which avoid unnecessarily slow lookups?\n",
    "\n",
    "When you can answer \"yes\" to all of these questions, submit by pressing the Submit button in the lower right!"
   ]
  },
  {
   "cell_type": "code",
   "execution_count": null,
   "metadata": {},
   "outputs": [],
   "source": [
    "from test import test\n",
    "\n",
    "test(PathPlanner)"
   ]
  },
  {
   "cell_type": "markdown",
   "metadata": {},
   "source": [
    "## Questions\n",
    "\n",
    "**Instructions**  Answer the following questions in your own words. We do not you expect you to know all of this knowledge on the top of your head. We expect you to do research and ask question. However do not merely copy and paste the answer from a google or stackoverflow. Read the information and understand it first. Then use your own words to explain the answer."
   ]
  },
  {
   "cell_type": "markdown",
   "metadata": {},
   "source": [
    "- How would you explain A-Star to a family member(layman)?\n",
    "\n",
    "** ANSWER **:"
   ]
  },
  {
   "cell_type": "markdown",
   "metadata": {},
   "source": [
    "- How does A-Star search algorithm differ from Uniform cost search? What about Best First search?\n",
    "\n",
    "** ANSWER **:"
   ]
  },
  {
   "cell_type": "markdown",
   "metadata": {},
   "source": [
    "- What is a heuristic?\n",
    "\n",
    "** ANSWER **:"
   ]
  },
  {
   "cell_type": "markdown",
   "metadata": {},
   "source": [
    "- What is a consistent heuristic?\n",
    "\n",
    "** ANSWER **:"
   ]
  },
  {
   "cell_type": "markdown",
   "metadata": {},
   "source": [
    "- What is a admissible heuristic? \n",
    "\n",
    "** ANSWER **:"
   ]
  },
  {
   "cell_type": "markdown",
   "metadata": {},
   "source": [
    "- ___ admissible heuristic are consistent.\n",
    "*CHOOSE ONE*\n",
    "    - All\n",
    "    - Some\n",
    "    - None\n",
    "    \n",
    "** ANSWER **:"
   ]
  },
  {
   "cell_type": "markdown",
   "metadata": {},
   "source": [
    "- ___ Consistent heuristic are admissible.\n",
    "*CHOOSE ONE*\n",
    "    - All\n",
    "    - Some\n",
    "    - None\n",
    "    \n",
    "** ANSWER **:"
   ]
  }
 ],
 "metadata": {
  "kernelspec": {
   "display_name": "Python 3",
   "language": "python",
   "name": "python3"
  },
  "language_info": {
   "codemirror_mode": {
    "name": "ipython",
    "version": 3
   },
   "file_extension": ".py",
   "mimetype": "text/x-python",
   "name": "python",
   "nbconvert_exporter": "python",
   "pygments_lexer": "ipython3",
   "version": "3.6.3"
  }
 },
 "nbformat": 4,
 "nbformat_minor": 2
}
